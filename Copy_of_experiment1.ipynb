{
  "nbformat": 4,
  "nbformat_minor": 0,
  "metadata": {
    "colab": {
      "provenance": [],
      "authorship_tag": "ABX9TyNuI+RSZRV7cjBMDvo1h+ni",
      "include_colab_link": true
    },
    "kernelspec": {
      "name": "python3",
      "display_name": "Python 3"
    },
    "language_info": {
      "name": "python"
    }
  },
  "cells": [
    {
      "cell_type": "markdown",
      "metadata": {
        "id": "view-in-github",
        "colab_type": "text"
      },
      "source": [
        "<a href=\"https://colab.research.google.com/github/pratibhaovhal/AIML/blob/main/Copy_of_experiment1.ipynb\" target=\"_parent\"><img src=\"https://colab.research.google.com/assets/colab-badge.svg\" alt=\"Open In Colab\"/></a>"
      ]
    },
    {
      "cell_type": "code",
      "execution_count": null,
      "metadata": {
        "colab": {
          "base_uri": "https://localhost:8080/"
        },
        "id": "1fMkVbwwiQ_0",
        "outputId": "bb1a9e81-03ef-49a8-eb86-20cb68cb6c2e"
      },
      "outputs": [
        {
          "output_type": "stream",
          "name": "stdout",
          "text": [
            "redius40\n",
            "272.0\n"
          ]
        }
      ],
      "source": [
        "r=int(input(\"redius\"))\n",
        "area=r*3.4*2\n",
        "print(area)"
      ]
    },
    {
      "cell_type": "markdown",
      "source": [],
      "metadata": {
        "id": "ATivI2Kgnxu9"
      }
    },
    {
      "cell_type": "code",
      "source": [],
      "metadata": {
        "id": "UPNrs2bInyYR"
      },
      "execution_count": null,
      "outputs": []
    }
  ]
}